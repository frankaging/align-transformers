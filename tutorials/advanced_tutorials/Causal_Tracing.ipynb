{
 "cells": [
  {
   "cell_type": "markdown",
   "metadata": {},
   "source": [
    "## Tutorial of Causal Tracing\n",
    "\n",
    "Causal tracing was a methodology for locating where facts are stored in transformer LMs, introduced in the paper [\"Locating and Editing Factual Associations in GPT\" (Meng et al., 2023)](https://arxiv.org/abs/2202.05262). In this notebook, we will implement their method using this library and replicate the first causal tracing example in the paper (figure 1e on page 2)."
   ]
  },
  {
   "cell_type": "markdown",
   "metadata": {},
   "source": [
    "[![Open In Colab](https://colab.research.google.com/assets/colab-badge.svg)](https://colab.research.google.com/github/frankaging/align-transformers/blob/main/tutorials/advance_tutorials/Causal_Tracing.ipynb)"
   ]
  },
  {
   "cell_type": "code",
   "execution_count": 1,
   "metadata": {},
   "outputs": [],
   "source": [
    "__author__ = \"Aryaman Arora\"\n",
    "__version__ = \"11/08/2023\""
   ]
  },
  {
   "cell_type": "markdown",
   "metadata": {},
   "source": [
    "### Set-up"
   ]
  },
  {
   "cell_type": "code",
   "execution_count": 2,
   "metadata": {},
   "outputs": [],
   "source": [
    "try:\n",
    "    # This library is our indicator that the required installs\n",
    "    # need to be done.\n",
    "    import transformers\n",
    "    import sys\n",
    "\n",
    "    sys.path.append(\"align-transformers/\")\n",
    "except ModuleNotFoundError:\n",
    "    !git clone https://github.com/frankaging/align-transformers.git\n",
    "    !pip install -r align-transformers/requirements.txt\n",
    "    import sys\n",
    "\n",
    "    sys.path.append(\"align-transformers/\")"
   ]
  },
  {
   "cell_type": "code",
   "execution_count": 3,
   "metadata": {},
   "outputs": [
    {
     "name": "stdout",
     "output_type": "stream",
     "text": [
      "[2023-12-19 16:04:19,145] [INFO] [real_accelerator.py:158:get_accelerator] Setting ds_accelerator to cuda (auto detect)\n"
     ]
    }
   ],
   "source": [
    "import sys\n",
    "\n",
    "sys.path.append(\"../..\")\n",
    "\n",
    "import pandas as pd\n",
    "from models.basic_utils import embed_to_distrib, top_vals, format_token\n",
    "from models.configuration_intervenable_model import (\n",
    "    IntervenableRepresentationConfig,\n",
    "    IntervenableConfig,\n",
    ")\n",
    "from models.intervenable_base import IntervenableModel\n",
    "from models.interventions import VanillaIntervention, Intervention\n",
    "from models.gpt2.modelings_intervenable_gpt2 import create_gpt2\n",
    "import torch\n",
    "\n",
    "%config InlineBackend.figure_formats = ['svg']\n",
    "from plotnine import (\n",
    "    ggplot,\n",
    "    geom_tile,\n",
    "    aes,\n",
    "    facet_wrap,\n",
    "    theme,\n",
    "    element_text,\n",
    "    geom_bar,\n",
    "    geom_hline,\n",
    "    scale_y_log10,\n",
    ")\n",
    "from plotnine.scales import scale_y_reverse, scale_fill_cmap\n",
    "from tqdm import tqdm"
   ]
  },
  {
   "cell_type": "markdown",
   "metadata": {},
   "source": [
    "### Factual recall\n",
    "\n",
    "Let's set up the model (gpt2-xl) and test it on the fact we want to causal trace: \"The Space Needle is in downtown **Seattle**\"."
   ]
  },
  {
   "cell_type": "code",
   "execution_count": 4,
   "metadata": {},
   "outputs": [
    {
     "name": "stdout",
     "output_type": "stream",
     "text": [
      "loaded model\n",
      "The Space Needle is in downtown\n",
      "_Seattle             0.9763794541358948\n",
      "_Bellev              0.002768289763480425\n",
      "_Portland            0.0021577831357717514\n",
      ",                    0.001514945994131267\n",
      "_Vancouver           0.0014351347927004099\n",
      "_San                 0.0013575770426541567\n",
      "_Minneapolis         0.0009382699499838054\n",
      ".                    0.0007443450158461928\n",
      "_Tacoma              0.0006097264122217894\n",
      "_Washington          0.000588554481510073\n"
     ]
    }
   ],
   "source": [
    "device = \"cuda:0\" if torch.cuda.is_available() else \"cpu\"\n",
    "config, tokenizer, gpt = create_gpt2(\n",
    "    name=\"gpt2-xl\",\n",
    "    cache_dir=\"/nlp/scr/aryaman/.cache/huggingface/hub\",  # change to your local dir\n",
    ")\n",
    "gpt.to(device)\n",
    "\n",
    "base = \"The Space Needle is in downtown\"\n",
    "inputs = [\n",
    "    tokenizer(base, return_tensors=\"pt\").to(device),\n",
    "]\n",
    "print(base)\n",
    "res = gpt(**inputs[0])\n",
    "distrib = embed_to_distrib(gpt, res.last_hidden_state, logits=False)\n",
    "top_vals(tokenizer, distrib[0][-1], n=10)"
   ]
  },
  {
   "cell_type": "markdown",
   "metadata": {},
   "source": [
    "## Corrupted run\n",
    "\n",
    "The first step in implementing causal tracing is to corrupt the input embeddings for the subject tokens by adding Gaussian noise to them. In Meng et al., the standard deviation of the Gaussian we sample from is computed as thrice the standard deviation of embeddings over a big dataset. We encode this as a constant, `self.noise_level`.\n",
    "\n",
    "Note that the `source` argument is ignored unlike in causal interventions, since we are adding noise without reference to any other input.\n",
    "\n",
    "Our intervention config intervenes on the `block_input` of the 0th layer, i.e. the embeddings."
   ]
  },
  {
   "cell_type": "code",
   "execution_count": 7,
   "metadata": {},
   "outputs": [],
   "source": [
    "class NoiseIntervention(Intervention):\n",
    "    def __init__(self, embed_dim, **kwargs):\n",
    "        super().__init__()\n",
    "        self.interchange_dim = None\n",
    "        self.embed_dim = embed_dim\n",
    "        self.noise_level = 0.13462981581687927\n",
    "\n",
    "    def set_interchange_dim(self, interchange_dim):\n",
    "        self.interchange_dim = interchange_dim\n",
    "\n",
    "    def forward(self, base, source):\n",
    "        # sample gaussian noise\n",
    "        mean = torch.zeros_like(base[..., : self.interchange_dim])\n",
    "        stdev = torch.ones_like(base[..., : self.interchange_dim]) * self.noise_level\n",
    "        noise = torch.normal(mean, stdev)\n",
    "\n",
    "        # interchange\n",
    "        base[..., : self.interchange_dim] += noise\n",
    "\n",
    "        return base\n",
    "\n",
    "    def __str__(self):\n",
    "        return f\"NoiseIntervention(embed_dim={self.embed_dim})\"\n",
    "\n",
    "\n",
    "def corrupted_config(model_type):\n",
    "    intervenable_config = IntervenableConfig(\n",
    "        intervenable_model_type=model_type,\n",
    "        intervenable_representations=[\n",
    "            IntervenableRepresentationConfig(\n",
    "                0,  # layer\n",
    "                \"block_input\",  # intervention type\n",
    "                \"pos\",  # intervention unit\n",
    "                1,  # max number of unit\n",
    "            ),\n",
    "        ],\n",
    "        intervenable_interventions_type=NoiseIntervention,\n",
    "    )\n",
    "    return intervenable_config"
   ]
  },
  {
   "cell_type": "markdown",
   "metadata": {},
   "source": [
    "Let's check that this reduced the probability of the output \"_Seattle\"."
   ]
  },
  {
   "cell_type": "code",
   "execution_count": 8,
   "metadata": {},
   "outputs": [
    {
     "name": "stdout",
     "output_type": "stream",
     "text": [
      "_Los                 0.038598958402872086\n",
      "_San                 0.030755173414945602\n",
      "_Detroit             0.025521164759993553\n",
      "_St                  0.02527548372745514\n",
      "_Chicago             0.02054608054459095\n",
      "_Houston             0.015524095855653286\n",
      "_Cleveland           0.014950713142752647\n",
      "_Toronto             0.014512530528008938\n",
      "_L                   0.013612194918096066\n",
      "_Denver              0.013066896237432957\n"
     ]
    }
   ],
   "source": [
    "base = tokenizer(\"The Space Needle is in downtown\", return_tensors=\"pt\").to(device)\n",
    "intervenable_config = corrupted_config(type(gpt))\n",
    "intervenable = IntervenableModel(intervenable_config, gpt)\n",
    "_, counterfactual_outputs = intervenable(\n",
    "    base, [base], {\"sources->base\": ([[[0, 1, 2, 3]]], [[[0, 1, 2, 3]]])}\n",
    ")\n",
    "distrib = embed_to_distrib(gpt, counterfactual_outputs.last_hidden_state, logits=False)\n",
    "top_vals(tokenizer, distrib[0][-1], n=10)"
   ]
  },
  {
   "cell_type": "markdown",
   "metadata": {},
   "source": [
    "### Restored run\n",
    "\n",
    "We now make a config that performs the following:\n",
    "1. Corrupt input embeddings for some positions.\n",
    "2. Restore the hidden state at a particular layer for some (potentially different positions).\n",
    "\n",
    "This is how Meng et al. check where in the model the fact moves through."
   ]
  },
  {
   "cell_type": "code",
   "execution_count": 7,
   "metadata": {},
   "outputs": [],
   "source": [
    "def restore_corrupted_config(model_type, layer):\n",
    "    intervenable_config = IntervenableConfig(\n",
    "        intervenable_model_type=model_type,\n",
    "        intervenable_representations=[\n",
    "            IntervenableRepresentationConfig(\n",
    "                0,  # layer\n",
    "                \"block_input\",  # intervention type\n",
    "                \"pos\",  # intervention unit\n",
    "                1,  # max number of unit\n",
    "            ),\n",
    "            IntervenableRepresentationConfig(\n",
    "                layer,  # layer\n",
    "                \"block_output\",  # intervention type\n",
    "                \"pos\",  # intervention unit\n",
    "                1,  # max number of unit\n",
    "            ),\n",
    "        ],\n",
    "        intervenable_interventions_type=[NoiseIntervention, VanillaIntervention],\n",
    "        # mode='serial'\n",
    "    )\n",
    "    return intervenable_config"
   ]
  },
  {
   "cell_type": "markdown",
   "metadata": {},
   "source": [
    "Now let's run this over all layers and positions! We will corrupt positions 0, 1, 2, 3 (\"The Space Needle\", i.e. the subject of the fact) and restore at a single position at every layer."
   ]
  },
  {
   "cell_type": "code",
   "execution_count": 8,
   "metadata": {},
   "outputs": [
    {
     "name": "stdout",
     "output_type": "stream",
     "text": [
      "7312\n"
     ]
    }
   ],
   "source": [
    "# should finish within 1 min with a standard 12G GPU\n",
    "token = tokenizer.encode(\" Seattle\")[0]\n",
    "print(token)"
   ]
  },
  {
   "cell_type": "code",
   "execution_count": 9,
   "metadata": {},
   "outputs": [
    {
     "name": "stderr",
     "output_type": "stream",
     "text": [
      "100%|█████████████████████████████████████████████████████████████████████████████████████████████████████████████████████████████████████████████████| 48/48 [00:42<00:00,  1.13it/s]\n"
     ]
    }
   ],
   "source": [
    "data = []\n",
    "for layer_i in tqdm(range(gpt.config.n_layer)):\n",
    "    for pos_i in range(7):\n",
    "        intervenable_config = restore_corrupted_config(type(gpt), layer_i)\n",
    "        intervenable = IntervenableModel(intervenable_config, gpt)\n",
    "        _, counterfactual_outputs = intervenable(\n",
    "            base,\n",
    "            [base, base],\n",
    "            {\n",
    "                \"sources->base\": (\n",
    "                    [[[0, 1, 2, 3]], [[pos_i, pos_i, pos_i, pos_i]]],\n",
    "                    [[[0, 1, 2, 3]], [[pos_i, pos_i, pos_i, pos_i]]],\n",
    "                )\n",
    "            },\n",
    "        )\n",
    "        distrib = embed_to_distrib(\n",
    "            gpt, counterfactual_outputs.last_hidden_state, logits=False\n",
    "        )\n",
    "        prob = distrib[0][-1][token].detach().cpu().item()\n",
    "        # print(layer_i, pos_i, prob)\n",
    "        data.append({\"layer\": layer_i, \"pos\": pos_i, \"prob\": prob})"
   ]
  },
  {
   "cell_type": "markdown",
   "metadata": {},
   "source": [
    "The plot below should now replicate Meng et al."
   ]
  },
  {
   "cell_type": "code",
   "execution_count": 10,
   "metadata": {},
   "outputs": [
    {
     "data": {
      "image/png": "[encoded data removed]",
      "text/plain": [
       "<Figure size 460.8x345.6 with 1 Axes>"
      ]
     },
     "metadata": {
      "image/png": {
       "height": 345,
       "width": 460
      }
     },
     "output_type": "display_data"
    },
    {
     "name": "stdout",
     "output_type": "stream",
     "text": [
      "\n"
     ]
    }
   ],
   "source": [
    "df = pd.DataFrame(data)\n",
    "df[\"layer\"] = df[\"layer\"].astype(int)\n",
    "df[\"pos\"] = df[\"pos\"].astype(int)\n",
    "df[\"prob\"] = df[\"prob\"].astype(float)\n",
    "\n",
    "plot = (\n",
    "    ggplot(df, aes(x=\"layer\", y=\"pos\"))\n",
    "    + scale_y_reverse()\n",
    "    + geom_tile(aes(fill=\"prob\"))\n",
    "    + scale_fill_cmap(\"Purples\")\n",
    ")\n",
    "print(plot)"
   ]
  }
 ],
 "metadata": {
  "kernelspec": {
   "display_name": "Python 3 (ipykernel)",
   "language": "python",
   "name": "python3"
  },
  "language_info": {
   "codemirror_mode": {
    "name": "ipython",
    "version": 3
   },
   "file_extension": ".py",
   "mimetype": "text/x-python",
   "name": "python",
   "nbconvert_exporter": "python",
   "pygments_lexer": "ipython3",
   "version": "3.8.12"
  }
 },
 "nbformat": 4,
 "nbformat_minor": 4
}
