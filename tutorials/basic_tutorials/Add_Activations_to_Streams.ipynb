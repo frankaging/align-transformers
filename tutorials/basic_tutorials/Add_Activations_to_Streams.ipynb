{
 "cells": [
  {
   "cell_type": "markdown",
   "id": "88fe760f",
   "metadata": {},
   "source": [
    "## Tutorial of adding / substracting activations to any stream"
   ]
  },
  {
   "cell_type": "markdown",
   "id": "fcef5dfe",
   "metadata": {},
   "source": [
    "[![Open In Colab](https://colab.research.google.com/assets/colab-badge.svg)](https://colab.research.google.com/github/frankaging/align-transformers/blob/main/tutorials/basic_tutorials/Add_Activations_to_Streams.ipynb)"
   ]
  },
  {
   "cell_type": "code",
   "execution_count": 1,
   "id": "682d1fdf",
   "metadata": {},
   "outputs": [],
   "source": [
    "__author__ = \"Zhengxuan Wu\"\n",
    "__version__ = \"10/06/2023\""
   ]
  },
  {
   "cell_type": "markdown",
   "id": "3deec495",
   "metadata": {},
   "source": [
    "### Overview\n",
    "\n",
    "Interventions have many types: (1) activation swapping, (2) activation addition, or (3) any other kind of operations that modify the activation. Some of them modify the addition respecting to its original basis, some do not. In this tutorial, we show how can we do any kind of activation modification using this library."
   ]
  },
  {
   "cell_type": "markdown",
   "id": "17476fc2",
   "metadata": {},
   "source": [
    "### Set-up"
   ]
  },
  {
   "cell_type": "code",
   "execution_count": 2,
   "id": "c34ae314",
   "metadata": {},
   "outputs": [],
   "source": [
    "try:\n",
    "    # This library is our indicator that the required installs\n",
    "    # need to be done.\n",
    "    import transformers\n",
    "    import sys\n",
    "\n",
    "    sys.path.append(\"align-transformers/\")\n",
    "except ModuleNotFoundError:\n",
    "    !git clone https://github.com/frankaging/align-transformers.git\n",
    "    !pip install -r align-transformers/requirements.txt\n",
    "    import sys\n",
    "\n",
    "    sys.path.append(\"align-transformers/\")"
   ]
  },
  {
   "cell_type": "code",
   "execution_count": 4,
   "id": "e5cb9eb2",
   "metadata": {},
   "outputs": [],
   "source": [
    "import sys\n",
    "\n",
    "sys.path.append(\"../..\")\n",
    "\n",
    "import torch\n",
    "import pandas as pd\n",
    "from models.basic_utils import embed_to_distrib, top_vals, format_token\n",
    "from models.configuration_intervenable_model import (\n",
    "    IntervenableRepresentationConfig,\n",
    "    IntervenableConfig,\n",
    ")\n",
    "from models.intervenable_base import IntervenableModel\n",
    "from models.interventions import AdditionIntervention, SubtractionIntervention\n",
    "from models.gpt2.modelings_intervenable_gpt2 import create_gpt2\n",
    "\n",
    "%config InlineBackend.figure_formats = ['svg']\n",
    "from plotnine import (\n",
    "    ggplot,\n",
    "    geom_tile,\n",
    "    aes,\n",
    "    facet_wrap,\n",
    "    theme,\n",
    "    element_text,\n",
    "    geom_bar,\n",
    "    geom_hline,\n",
    "    scale_y_log10,\n",
    ")"
   ]
  },
  {
   "cell_type": "markdown",
   "id": "0d4487e4",
   "metadata": {},
   "source": [
    "### Factual recall with our intervenable module directly"
   ]
  },
  {
   "cell_type": "code",
   "execution_count": 5,
   "id": "1fc15f36",
   "metadata": {},
   "outputs": [
    {
     "name": "stdout",
     "output_type": "stream",
     "text": [
      "loaded model\n"
     ]
    }
   ],
   "source": [
    "def activation_addition_position_config(model_type, intervention_type, n_layer):\n",
    "    intervenable_config = IntervenableConfig(\n",
    "        intervenable_model_type=model_type,\n",
    "        intervenable_representations=[\n",
    "            IntervenableRepresentationConfig(\n",
    "                i,  # layer\n",
    "                intervention_type,  # intervention type\n",
    "                \"pos\",  # intervention unit\n",
    "                1,  # max number of unit\n",
    "            )\n",
    "            for i in range(n_layer)\n",
    "        ],\n",
    "        intervenable_interventions_type=AdditionIntervention,\n",
    "    )\n",
    "    return intervenable_config\n",
    "\n",
    "\n",
    "config, tokenizer, gpt = create_gpt2(cache_dir=\"../../../.huggingface_cache\")"
   ]
  },
  {
   "cell_type": "code",
   "execution_count": 6,
   "id": "151ded21",
   "metadata": {},
   "outputs": [
    {
     "name": "stdout",
     "output_type": "stream",
     "text": [
      "The capital of Spain is\n",
      "_Madrid              0.10501234978437424\n",
      "_the                 0.0949699655175209\n",
      "_Barcelona           0.0702790841460228\n",
      "_a                   0.04010068252682686\n",
      "_now                 0.02824278175830841\n",
      "_in                  0.02759990654885769\n",
      "_Spain               0.022991720587015152\n",
      "_Catalonia           0.018823225051164627\n",
      "_also                0.018689140677452087\n",
      "_not                 0.01735665090382099\n",
      "\n",
      "The capital of Italy is\n",
      "_Rome                0.15734916925430298\n",
      "_the                 0.07316355407238007\n",
      "_Milan               0.046878915280103683\n",
      "_a                   0.03449810668826103\n",
      "_now                 0.03200329467654228\n",
      "_in                  0.02306535840034485\n",
      "_also                0.02274816483259201\n",
      "_home                0.01920313946902752\n",
      "_not                 0.01640527881681919\n",
      "_Italy               0.01577090471982956\n"
     ]
    }
   ],
   "source": [
    "intervenable_config = activation_addition_position_config(\n",
    "    type(gpt), \"mlp_output\", gpt.config.n_layer\n",
    ")\n",
    "\n",
    "intervenable = IntervenableModel(intervenable_config, gpt)\n",
    "\n",
    "base = \"The capital of Spain is\"\n",
    "source = \"The capital of Italy is\"\n",
    "inputs = [tokenizer(base, return_tensors=\"pt\"), tokenizer(source, return_tensors=\"pt\")]\n",
    "print(base)\n",
    "res = intervenable(inputs[0])[0]\n",
    "distrib = embed_to_distrib(gpt, res.last_hidden_state, logits=False)\n",
    "top_vals(tokenizer, distrib[0][-1], n=10)\n",
    "print()\n",
    "print(source)\n",
    "res = intervenable(inputs[1])[0]\n",
    "distrib = embed_to_distrib(gpt, res.last_hidden_state, logits=False)\n",
    "top_vals(tokenizer, distrib[0][-1], n=10)"
   ]
  },
  {
   "cell_type": "markdown",
   "id": "79cb7ebc",
   "metadata": {},
   "source": [
    "### We add a word embedding to all MLP streams at the last position\n",
    "In other tutorials, we often pass in `sources` where each of the example is drawn from the training data. Another way to do patching is, instead of passing in real input example, we pass in activations. These activations can be designed off-line in some particular ways."
   ]
  },
  {
   "cell_type": "code",
   "execution_count": 7,
   "id": "0481a874",
   "metadata": {},
   "outputs": [
    {
     "data": {
      "text/plain": [
       "['layer.0.repr.mlp_output.unit.pos.nunit.1#0',\n",
       " 'layer.1.repr.mlp_output.unit.pos.nunit.1#0',\n",
       " 'layer.2.repr.mlp_output.unit.pos.nunit.1#0',\n",
       " 'layer.3.repr.mlp_output.unit.pos.nunit.1#0',\n",
       " 'layer.4.repr.mlp_output.unit.pos.nunit.1#0',\n",
       " 'layer.5.repr.mlp_output.unit.pos.nunit.1#0',\n",
       " 'layer.6.repr.mlp_output.unit.pos.nunit.1#0',\n",
       " 'layer.7.repr.mlp_output.unit.pos.nunit.1#0',\n",
       " 'layer.8.repr.mlp_output.unit.pos.nunit.1#0',\n",
       " 'layer.9.repr.mlp_output.unit.pos.nunit.1#0',\n",
       " 'layer.10.repr.mlp_output.unit.pos.nunit.1#0',\n",
       " 'layer.11.repr.mlp_output.unit.pos.nunit.1#0']"
      ]
     },
     "execution_count": 7,
     "metadata": {},
     "output_type": "execute_result"
    }
   ],
   "source": [
    "# we can patch mlp with the rome word embedding\n",
    "rome_token_id = tokenizer(\" Rome\")[\"input_ids\"][0]\n",
    "rome_embedding = (\n",
    "    gpt.wte(torch.tensor(rome_token_id)).clone().unsqueeze(0).unsqueeze(0)\n",
    ")  # make it a fake batch\n",
    "activations_sources = dict(\n",
    "    zip(\n",
    "        intervenable.sorted_intervenable_keys,\n",
    "        [rome_embedding] * len(intervenable.sorted_intervenable_keys),\n",
    "    )\n",
    ")\n",
    "# we intervene on all of the mlp output\n",
    "intervenable.sorted_intervenable_keys"
   ]
  },
  {
   "cell_type": "code",
   "execution_count": 9,
   "id": "78d9a0be",
   "metadata": {},
   "outputs": [
    {
     "name": "stdout",
     "output_type": "stream",
     "text": [
      "_Rome                0.4558262228965759\n",
      "_Madrid              0.2788238823413849\n",
      "_Barcelona           0.10828061401844025\n",
      "_Valencia            0.015630871057510376\n",
      "_Lisbon              0.008415448479354382\n",
      "_the                 0.006678737234324217\n",
      "_Santiago            0.006526812445372343\n",
      "_Naples              0.0041163465939462185\n",
      "_Florence            0.003120437264442444\n",
      "_Athens              0.0028584974352270365\n"
     ]
    }
   ],
   "source": [
    "base = \"The capital of Spain is\"\n",
    "source = \"The capital of Italy is\"\n",
    "inputs = [tokenizer(base, return_tensors=\"pt\"), tokenizer(source, return_tensors=\"pt\")]\n",
    "_, counterfactual_outputs = intervenable(\n",
    "    inputs[0],\n",
    "    unit_locations={\n",
    "        \"sources->base\": ([[[0]]] * gpt.config.n_layer, [[[4]]] * gpt.config.n_layer)\n",
    "    },  # last position\n",
    "    activations_sources=activations_sources,\n",
    ")\n",
    "distrib = embed_to_distrib(gpt, counterfactual_outputs.last_hidden_state, logits=False)\n",
    "top_vals(tokenizer, distrib[0][-1], n=10)"
   ]
  },
  {
   "cell_type": "markdown",
   "id": "3e6e5ff6",
   "metadata": {},
   "source": [
    "If you are interested by this work, you can simply think token embeddings at each layer are moved toward the token `_Rome` via the activation addition. Obviouosly, the LM head (which is tied with the embedding matrix) is going to pick out the most similar vectors, which are `_Rome` at the end, and some other countries since they are close to `_Rome`.\n",
    "\n",
    "You can also read more about this in this paper: [Language Models Implement Simple Word2Vec-style Vector Arithmetic](https://arxiv.org/abs/2305.16130)."
   ]
  },
  {
   "cell_type": "markdown",
   "id": "0784203e",
   "metadata": {},
   "source": [
    "### Let's have a more systematic analysis of the addition effect of MLP and MHA streams\n",
    "We add the word embedding till the `i`-th layer of these streams"
   ]
  },
  {
   "cell_type": "code",
   "execution_count": 10,
   "id": "fe8195d1",
   "metadata": {},
   "outputs": [],
   "source": [
    "# should finish within 1 min with a standard 12G GPU\n",
    "tokens = tokenizer.encode(\" Madrid Rome\")\n",
    "base = tokenizer(\"The capital of Spain is\", return_tensors=\"pt\")\n",
    "\n",
    "data = []\n",
    "for till_layer_i in range(gpt.config.n_layer):\n",
    "    intervenable_config = activation_addition_position_config(\n",
    "        type(gpt), \"mlp_output\", till_layer_i + 1\n",
    "    )\n",
    "    intervenable = IntervenableModel(intervenable_config, gpt)\n",
    "    activations_sources = dict(\n",
    "        zip(\n",
    "            intervenable.sorted_intervenable_keys,\n",
    "            [rome_embedding] * len(intervenable.sorted_intervenable_keys),\n",
    "        )\n",
    "    )\n",
    "    for pos_i in range(len(base.input_ids[0])):\n",
    "        _, counterfactual_outputs = intervenable(\n",
    "            base,\n",
    "            unit_locations={\n",
    "                \"sources->base\": (\n",
    "                    [[[0]]] * (till_layer_i + 1),\n",
    "                    [[[pos_i]]] * (till_layer_i + 1),\n",
    "                )\n",
    "            },\n",
    "            activations_sources=activations_sources,\n",
    "        )\n",
    "        distrib = embed_to_distrib(\n",
    "            gpt, counterfactual_outputs.last_hidden_state, logits=False\n",
    "        )\n",
    "        for token in tokens:\n",
    "            data.append(\n",
    "                {\n",
    "                    \"token\": format_token(tokenizer, token),\n",
    "                    \"prob\": float(distrib[0][-1][token]),\n",
    "                    \"layer\": f\"f{till_layer_i}\",\n",
    "                    \"pos\": pos_i,\n",
    "                    \"type\": \"mlp_output\",\n",
    "                }\n",
    "            )\n",
    "\n",
    "    intervenable_config = activation_addition_position_config(\n",
    "        type(gpt), \"attention_output\", till_layer_i + 1\n",
    "    )\n",
    "    intervenable = IntervenableModel(intervenable_config, gpt)\n",
    "    activations_sources = dict(\n",
    "        zip(\n",
    "            intervenable.sorted_intervenable_keys,\n",
    "            [rome_embedding] * len(intervenable.sorted_intervenable_keys),\n",
    "        )\n",
    "    )\n",
    "\n",
    "    for pos_i in range(len(base.input_ids[0])):\n",
    "        _, counterfactual_outputs = intervenable(\n",
    "            base,\n",
    "            unit_locations={\n",
    "                \"sources->base\": (\n",
    "                    [[[0]]] * (till_layer_i + 1),\n",
    "                    [[[pos_i]]] * (till_layer_i + 1),\n",
    "                )\n",
    "            },\n",
    "            activations_sources=activations_sources,\n",
    "        )\n",
    "        distrib = embed_to_distrib(\n",
    "            gpt, counterfactual_outputs.last_hidden_state, logits=False\n",
    "        )\n",
    "        for token in tokens:\n",
    "            data.append(\n",
    "                {\n",
    "                    \"token\": format_token(tokenizer, token),\n",
    "                    \"prob\": float(distrib[0][-1][token]),\n",
    "                    \"layer\": f\"a{till_layer_i}\",\n",
    "                    \"pos\": pos_i,\n",
    "                    \"type\": \"attention_input\",\n",
    "                }\n",
    "            )\n",
    "df = pd.DataFrame(data)"
   ]
  },
  {
   "cell_type": "code",
   "execution_count": 12,
   "id": "81604a1c",
   "metadata": {},
   "outputs": [
    {
     "data": {
      "image/png": "[encoded data removed]",
      "text/plain": [
       "<Figure size 640x480 with 2 Axes>"
      ]
     },
     "metadata": {
      "image/png": {
       "height": 480,
       "width": 640
      }
     },
     "output_type": "display_data"
    },
    {
     "name": "stdout",
     "output_type": "stream",
     "text": [
      "\n"
     ]
    }
   ],
   "source": [
    "df[\"layer\"] = df[\"layer\"].astype(\"category\")\n",
    "df[\"token\"] = df[\"token\"].astype(\"category\")\n",
    "nodes = []\n",
    "for l in range(gpt.config.n_layer - 1, -1, -1):\n",
    "    nodes.append(f\"f{l}\")\n",
    "    nodes.append(f\"a{l}\")\n",
    "df[\"layer\"] = pd.Categorical(df[\"layer\"], categories=nodes[::-1], ordered=True)\n",
    "\n",
    "g = (\n",
    "    ggplot(df)\n",
    "    + geom_tile(aes(x=\"pos\", y=\"layer\", fill=\"prob\", color=\"prob\"))\n",
    "    + facet_wrap(\"~token\")\n",
    "    + theme(axis_text_x=element_text(rotation=90))\n",
    ")\n",
    "print(g)"
   ]
  },
  {
   "cell_type": "code",
   "execution_count": null,
   "id": "bbc92072",
   "metadata": {},
   "outputs": [],
   "source": []
  }
 ],
 "metadata": {
  "kernelspec": {
   "display_name": "Python 3 (ipykernel)",
   "language": "python",
   "name": "python3"
  },
  "language_info": {
   "codemirror_mode": {
    "name": "ipython",
    "version": 3
   },
   "file_extension": ".py",
   "mimetype": "text/x-python",
   "name": "python",
   "nbconvert_exporter": "python",
   "pygments_lexer": "ipython3",
   "version": "3.8.12"
  }
 },
 "nbformat": 4,
 "nbformat_minor": 5
}
