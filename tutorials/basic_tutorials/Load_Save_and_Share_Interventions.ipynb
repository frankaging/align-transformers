{
 "cells": [
  {
   "cell_type": "markdown",
   "id": "77c811fb",
   "metadata": {},
   "source": [
    "## Tutorial of Loading, Saving and Sharing Your Interventions"
   ]
  },
  {
   "cell_type": "code",
   "execution_count": 1,
   "id": "a5f437a5",
   "metadata": {},
   "outputs": [],
   "source": [
    "__author__ = \"Zhengxuan Wu\"\n",
    "__version__ = \"01/09/2024\""
   ]
  },
  {
   "cell_type": "markdown",
   "id": "8a9ad242",
   "metadata": {},
   "source": [
    "### Overview\n",
    "\n",
    "With this library, you could end up with pretty complex intervention schemes to get meaningful counterfactual behaviors of large models. This library helps you to share your interventions with others, either saving them locally to your disk or directly sharing them through hub service such as Huggingface! If you share through Huggingface, we assume you are logged in."
   ]
  },
  {
   "cell_type": "markdown",
   "id": "fd09bf46",
   "metadata": {},
   "source": [
    "### Set-up"
   ]
  },
  {
   "cell_type": "code",
   "execution_count": 2,
   "id": "85db984c",
   "metadata": {},
   "outputs": [],
   "source": [
    "try:\n",
    "    # This library is our indicator that the required installs\n",
    "    # need to be done.\n",
    "    import transformers\n",
    "    import sys\n",
    "\n",
    "    sys.path.append(\"align-transformers/\")\n",
    "except ModuleNotFoundError:\n",
    "    !git clone https://github.com/frankaging/align-transformers.git\n",
    "    !pip install -r align-transformers/requirements.txt\n",
    "    import sys\n",
    "\n",
    "    sys.path.append(\"align-transformers/\")"
   ]
  },
  {
   "cell_type": "code",
   "execution_count": 3,
   "id": "34e47c62",
   "metadata": {},
   "outputs": [
    {
     "name": "stdout",
     "output_type": "stream",
     "text": [
      "[2024-01-09 19:18:33,119] [INFO] [real_accelerator.py:158:get_accelerator] Setting ds_accelerator to cuda (auto detect)\n",
      "loaded model\n"
     ]
    }
   ],
   "source": [
    "import sys\n",
    "\n",
    "sys.path.append(\"../..\")\n",
    "\n",
    "import torch\n",
    "import pandas as pd\n",
    "from models.basic_utils import embed_to_distrib, top_vals, format_token\n",
    "from models.configuration_intervenable_model import (\n",
    "    IntervenableRepresentationConfig,\n",
    "    IntervenableConfig,\n",
    ")\n",
    "from models.intervenable_base import IntervenableModel\n",
    "from models.interventions import (\n",
    "    VanillaIntervention,\n",
    "    LowRankRotatedSpaceIntervention,\n",
    "    TrainableIntervention,\n",
    ")\n",
    "from models.gpt2.modelings_intervenable_gpt2 import create_gpt2\n",
    "\n",
    "%config InlineBackend.figure_formats = ['svg']\n",
    "from plotnine import (\n",
    "    ggplot,\n",
    "    geom_tile,\n",
    "    aes,\n",
    "    facet_wrap,\n",
    "    theme,\n",
    "    element_text,\n",
    "    geom_bar,\n",
    "    geom_hline,\n",
    "    scale_y_log10,\n",
    ")\n",
    "\n",
    "config, tokenizer, gpt = create_gpt2(cache_dir=\"../../../.huggingface_cache\")"
   ]
  },
  {
   "cell_type": "markdown",
   "id": "23fcb751",
   "metadata": {},
   "source": [
    "### Notebook Huggingface Login\n",
    "For command-line programs, you need to explicitly login to huggingface hub using [cli](https://huggingface.co/docs/hub/models-adding-libraries) once to build the connection."
   ]
  },
  {
   "cell_type": "code",
   "execution_count": null,
   "id": "62d35be5",
   "metadata": {},
   "outputs": [],
   "source": [
    "from huggingface_hub import notebook_login\n",
    "\n",
    "notebook_login()"
   ]
  },
  {
   "cell_type": "code",
   "execution_count": 14,
   "id": "972ba732",
   "metadata": {},
   "outputs": [],
   "source": [
    "intervenable_config = IntervenableConfig(\n",
    "    intervenable_model_type=type(gpt),\n",
    "    intervenable_representations=[\n",
    "        IntervenableRepresentationConfig(\n",
    "            0,\n",
    "            \"block_output\",\n",
    "            \"pos\",\n",
    "            1,\n",
    "            intervenable_low_rank_dimension=128,\n",
    "            group_key=0,\n",
    "        ),\n",
    "        IntervenableRepresentationConfig(\n",
    "            2,\n",
    "            \"block_output\",\n",
    "            \"pos\",\n",
    "            1,\n",
    "            intervenable_low_rank_dimension=128,\n",
    "            group_key=0,\n",
    "        ),\n",
    "    ],\n",
    "    intervenable_interventions_type=LowRankRotatedSpaceIntervention,\n",
    ")\n",
    "intervenable = IntervenableModel(intervenable_config, gpt)\n",
    "\n",
    "base = tokenizer(\"The capital of Spain is\", return_tensors=\"pt\")\n",
    "sources = [tokenizer(\"The capital of Italy is\", return_tensors=\"pt\")]\n",
    "\n",
    "_, counterfactual_outputs_unsaved = intervenable(\n",
    "    base, sources, {\"sources->base\": ([[[3]], [[4]]], [[[3]], [[4]]])}\n",
    ")"
   ]
  },
  {
   "cell_type": "code",
   "execution_count": 15,
   "id": "b1d5b186",
   "metadata": {},
   "outputs": [
    {
     "name": "stderr",
     "output_type": "stream",
     "text": [
      "WARNING:root:Saving trainable intervention to intkey_layer.0.repr.block_output.unit.pos.nunit.1#0.bin.\n",
      "WARNING:root:Skipping creating the repo since either zhengxuanzenwu/intervention_sharing_test exists or having authentication error.\n"
     ]
    },
    {
     "name": "stdout",
     "output_type": "stream",
     "text": [
      "Directory './tutorial_data/tmp_dir/' already exists.\n"
     ]
    },
    {
     "data": {
      "application/vnd.jupyter.widget-view+json": {
       "model_id": "a8d897333ec3497687e361cc2b0eb873",
       "version_major": 2,
       "version_minor": 0
      },
      "text/plain": [
       "intkey_layer.0.repr.block_output.unit.pos.nunit.1#0.bin:   0%|          | 0.00/2.75M [00:00<?, ?B/s]"
      ]
     },
     "metadata": {},
     "output_type": "display_data"
    },
    {
     "name": "stderr",
     "output_type": "stream",
     "text": [
      "WARNING:root:Saving trainable intervention to intkey_layer.2.repr.block_output.unit.pos.nunit.1#0.bin.\n",
      "WARNING:root:Skipping creating the repo since either zhengxuanzenwu/intervention_sharing_test exists or having authentication error.\n"
     ]
    },
    {
     "data": {
      "application/vnd.jupyter.widget-view+json": {
       "model_id": "55a70b4fbf104859b864165ba53fe9d0",
       "version_major": 2,
       "version_minor": 0
      },
      "text/plain": [
       "intkey_layer.2.repr.block_output.unit.pos.nunit.1#0.bin:   0%|          | 0.00/2.75M [00:00<?, ?B/s]"
      ]
     },
     "metadata": {},
     "output_type": "display_data"
    },
    {
     "name": "stderr",
     "output_type": "stream",
     "text": [
      "WARNING:root:Skipping creating the repo since either zhengxuanzenwu/intervention_sharing_test exists or having authentication error.\n"
     ]
    }
   ],
   "source": [
    "# saving it locally as well as to the hub\n",
    "intervenable.save(\n",
    "    save_directory=\"./tutorial_data/tmp_dir/\",\n",
    "    save_to_hf_hub=True,\n",
    "    hf_repo_name=\"zhengxuanzenwu/intervention_sharing_test\",\n",
    ")"
   ]
  },
  {
   "cell_type": "markdown",
   "id": "227917ff",
   "metadata": {},
   "source": [
    "The model should be saved into the disk as well as to [the hub](https://huggingface.co/zhengxuanzenwu/intervention_sharing_test)."
   ]
  },
  {
   "cell_type": "code",
   "execution_count": 16,
   "id": "e4a6c4a8",
   "metadata": {},
   "outputs": [
    {
     "name": "stderr",
     "output_type": "stream",
     "text": [
      "WARNING:root:The key is provided in the config. Assuming this is loaded from a pretrained module.\n",
      "WARNING:root:Loading trainable intervention from intkey_layer.0.repr.block_output.unit.pos.nunit.1#0.bin.\n",
      "WARNING:root:Loading trainable intervention from intkey_layer.2.repr.block_output.unit.pos.nunit.1#0.bin.\n"
     ]
    }
   ],
   "source": [
    "intervenable_loaded = IntervenableModel.load(\n",
    "    load_directory=\"zhengxuanzenwu/intervention_sharing_test\",\n",
    "    model=gpt,\n",
    "    local_directory=\"./tutorial_data/tmp_dir/\",\n",
    ")"
   ]
  },
  {
   "cell_type": "code",
   "execution_count": 17,
   "id": "a334fe0f",
   "metadata": {},
   "outputs": [],
   "source": [
    "_, counterfactual_outputs_loaded = intervenable_loaded(\n",
    "    base, sources, {\"sources->base\": ([[[3]], [[4]]], [[[3]], [[4]]])}\n",
    ")"
   ]
  },
  {
   "cell_type": "code",
   "execution_count": 18,
   "id": "75e54d8a",
   "metadata": {},
   "outputs": [
    {
     "data": {
      "text/plain": [
       "True"
      ]
     },
     "execution_count": 18,
     "metadata": {},
     "output_type": "execute_result"
    }
   ],
   "source": [
    "torch.equal(\n",
    "    counterfactual_outputs_unsaved.last_hidden_state,\n",
    "    counterfactual_outputs_loaded.last_hidden_state,\n",
    ")"
   ]
  }
 ],
 "metadata": {
  "kernelspec": {
   "display_name": "Python 3 (ipykernel)",
   "language": "python",
   "name": "python3"
  },
  "language_info": {
   "codemirror_mode": {
    "name": "ipython",
    "version": 3
   },
   "file_extension": ".py",
   "mimetype": "text/x-python",
   "name": "python",
   "nbconvert_exporter": "python",
   "pygments_lexer": "ipython3",
   "version": "3.8.12"
  }
 },
 "nbformat": 4,
 "nbformat_minor": 5
}
