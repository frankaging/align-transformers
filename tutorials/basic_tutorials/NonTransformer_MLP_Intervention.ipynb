{
 "cells": [
  {
   "cell_type": "markdown",
   "id": "c804055e",
   "metadata": {},
   "source": [
    "## Tutorial of Interventions on Non-transformer Model: MLPs"
   ]
  },
  {
   "cell_type": "code",
   "execution_count": 1,
   "id": "40937a8c",
   "metadata": {},
   "outputs": [],
   "source": [
    "__author__ = \"Zhengxuan Wu\"\n",
    "__version__ = \"12/20/2023\""
   ]
  },
  {
   "cell_type": "markdown",
   "id": "065c84f3",
   "metadata": {},
   "source": [
    "### Overview\n",
    "\n",
    "This tutorials show how to use this library on non-transformer models, such as MLPs. The set-ups are pretty much the same as standard transformer-based models."
   ]
  },
  {
   "cell_type": "markdown",
   "id": "2faf23b7",
   "metadata": {},
   "source": [
    "### Set-up"
   ]
  },
  {
   "cell_type": "code",
   "execution_count": 2,
   "id": "1c80bc5f",
   "metadata": {},
   "outputs": [],
   "source": [
    "try:\n",
    "    # This library is our indicator that the required installs\n",
    "    # need to be done.\n",
    "    import transformers\n",
    "    import sys\n",
    "\n",
    "    sys.path.append(\"align-transformers/\")\n",
    "except ModuleNotFoundError:\n",
    "    !git clone https://github.com/frankaging/align-transformers.git\n",
    "    !pip install -r align-transformers/requirements.txt\n",
    "    import sys\n",
    "\n",
    "    sys.path.append(\"align-transformers/\")"
   ]
  },
  {
   "cell_type": "code",
   "execution_count": 3,
   "id": "c4ef0762",
   "metadata": {},
   "outputs": [
    {
     "name": "stdout",
     "output_type": "stream",
     "text": [
      "[2024-01-10 15:12:21,053] [INFO] [real_accelerator.py:158:get_accelerator] Setting ds_accelerator to cuda (auto detect)\n",
      "loaded model\n"
     ]
    }
   ],
   "source": [
    "import sys\n",
    "\n",
    "sys.path.append(\"../..\")\n",
    "\n",
    "import torch\n",
    "import pandas as pd\n",
    "from models.basic_utils import embed_to_distrib, top_vals, format_token\n",
    "from models.configuration_intervenable_model import (\n",
    "    IntervenableRepresentationConfig,\n",
    "    IntervenableConfig,\n",
    ")\n",
    "from models.intervenable_base import IntervenableModel\n",
    "from models.interventions import (\n",
    "    VanillaIntervention,\n",
    "    RotatedSpaceIntervention,\n",
    "    LowRankRotatedSpaceIntervention,\n",
    ")\n",
    "from models.mlp.modelings_mlp import MLPConfig\n",
    "from models.mlp.modelings_intervenable_mlp import create_mlp_classifier\n",
    "\n",
    "%config InlineBackend.figure_formats = ['svg']\n",
    "from plotnine import (\n",
    "    ggplot,\n",
    "    geom_tile,\n",
    "    aes,\n",
    "    facet_wrap,\n",
    "    theme,\n",
    "    element_text,\n",
    "    geom_bar,\n",
    "    geom_hline,\n",
    "    scale_y_log10,\n",
    ")\n",
    "\n",
    "config, tokenizer, mlp = create_mlp_classifier(MLPConfig(h_dim=32, n_layer=1))"
   ]
  },
  {
   "cell_type": "markdown",
   "id": "10a4aaa0",
   "metadata": {},
   "source": [
    "### Intervene in middle layer by partitioning representations into subspaces\n",
    "\n",
    "MLP layer may contain only a single \"token\" representation each layer. As a result, we often want to intervene on a subspace of this \"token\" representation to localize a concept."
   ]
  },
  {
   "cell_type": "code",
   "execution_count": 4,
   "id": "d4c1f678",
   "metadata": {},
   "outputs": [
    {
     "name": "stdout",
     "output_type": "stream",
     "text": [
      "base ((tensor([[ 0.2097, -0.0147]]),), None)\n",
      "source ((tensor([[ 0.1747, -0.1433]]),), None)\n"
     ]
    }
   ],
   "source": [
    "intervenable_config = IntervenableConfig(\n",
    "    intervenable_model_type=type(mlp),\n",
    "    intervenable_representations=[\n",
    "        IntervenableRepresentationConfig(\n",
    "            0,\n",
    "            \"block_output\",\n",
    "            \"pos\",  # mlp layer creates a single token reprs\n",
    "            1,\n",
    "            subspace_partition=[\n",
    "                [0, 16],\n",
    "                [16, 32],\n",
    "            ],  # partition into two sets of subspaces\n",
    "        ),\n",
    "    ],\n",
    "    intervenable_interventions_type=RotatedSpaceIntervention,\n",
    ")\n",
    "intervenable = IntervenableModel(intervenable_config, mlp)\n",
    "\n",
    "base = {\"inputs_embeds\": torch.rand(1, 1, 32)}\n",
    "source = {\"inputs_embeds\": torch.rand(1, 1, 32)}\n",
    "print(\"base\", intervenable(base))\n",
    "print(\"source\", intervenable(source))"
   ]
  },
  {
   "cell_type": "code",
   "execution_count": 7,
   "id": "7f546a27",
   "metadata": {},
   "outputs": [],
   "source": [
    "_, counterfactual_outputs = intervenable(\n",
    "    base, [source], {\"sources->base\": ([[[0]]], [[[0]]])}, subspaces=[[[1, 0]]]\n",
    ")"
   ]
  },
  {
   "cell_type": "code",
   "execution_count": 8,
   "id": "6f7073d1",
   "metadata": {},
   "outputs": [
    {
     "data": {
      "text/plain": [
       "(tensor([[ 0.1747, -0.1433]], grad_fn=<SqueezeBackward1>),)"
      ]
     },
     "execution_count": 8,
     "metadata": {},
     "output_type": "execute_result"
    }
   ],
   "source": [
    "counterfactual_outputs  # this should be the same as source."
   ]
  },
  {
   "cell_type": "markdown",
   "id": "82600bd7",
   "metadata": {},
   "source": [
    "### Intervene the subspace with multiple sources"
   ]
  },
  {
   "cell_type": "code",
   "execution_count": 9,
   "id": "830f00d7",
   "metadata": {},
   "outputs": [
    {
     "name": "stdout",
     "output_type": "stream",
     "text": [
      "base ((tensor([[ 0.1992, -0.0437],\n",
      "        [ 0.1270,  0.0192],\n",
      "        [ 0.2138, -0.1187],\n",
      "        [ 0.2332, -0.1028],\n",
      "        [ 0.1555, -0.1350],\n",
      "        [ 0.1667, -0.0826],\n",
      "        [ 0.1946, -0.1565],\n",
      "        [ 0.1763, -0.1517],\n",
      "        [ 0.2392,  0.0309],\n",
      "        [ 0.1352, -0.1232]]),), None)\n",
      "source ((tensor([[ 0.2338, -0.1565],\n",
      "        [ 0.1794, -0.1778],\n",
      "        [ 0.1446, -0.0479],\n",
      "        [ 0.2647, -0.1311],\n",
      "        [ 0.1848, -0.0395],\n",
      "        [ 0.2853, -0.1353],\n",
      "        [ 0.2116, -0.0744],\n",
      "        [ 0.1642, -0.1196],\n",
      "        [ 0.2374, -0.1412],\n",
      "        [ 0.2045, -0.1211]]),), None)\n"
     ]
    }
   ],
   "source": [
    "intervenable_config = IntervenableConfig(\n",
    "    intervenable_model_type=type(mlp),\n",
    "    intervenable_representations=[\n",
    "        IntervenableRepresentationConfig(\n",
    "            0,\n",
    "            \"block_output\",\n",
    "            \"pos\",  # mlp layer creates a single token reprs\n",
    "            1,\n",
    "            intervenable_low_rank_dimension=32,\n",
    "            subspace_partition=[\n",
    "                [0, 16],\n",
    "                [16, 32],\n",
    "            ],  # partition into two sets of subspaces\n",
    "            intervention_link_key=0,  # linked ones target the same subspace\n",
    "        ),\n",
    "        IntervenableRepresentationConfig(\n",
    "            0,\n",
    "            \"block_output\",\n",
    "            \"pos\",  # mlp layer creates a single token reprs\n",
    "            1,\n",
    "            intervenable_low_rank_dimension=32,\n",
    "            subspace_partition=[\n",
    "                [0, 16],\n",
    "                [16, 32],\n",
    "            ],  # partition into two sets of subspaces\n",
    "            intervention_link_key=0,  # linked ones target the same subspace\n",
    "        ),\n",
    "    ],\n",
    "    intervenable_interventions_type=LowRankRotatedSpaceIntervention,\n",
    ")\n",
    "intervenable = IntervenableModel(intervenable_config, mlp)\n",
    "\n",
    "base = {\"inputs_embeds\": torch.rand(10, 1, 32)}\n",
    "source = {\"inputs_embeds\": torch.rand(10, 1, 32)}\n",
    "print(\"base\", intervenable(base))\n",
    "print(\"source\", intervenable(source))"
   ]
  },
  {
   "cell_type": "code",
   "execution_count": 11,
   "id": "045d74f5",
   "metadata": {},
   "outputs": [
    {
     "name": "stdout",
     "output_type": "stream",
     "text": [
      "(tensor([[ 0.2338, -0.1565],\n",
      "        [ 0.1794, -0.1778],\n",
      "        [ 0.1446, -0.0479],\n",
      "        [ 0.2647, -0.1311],\n",
      "        [ 0.1848, -0.0395],\n",
      "        [ 0.2853, -0.1353],\n",
      "        [ 0.2116, -0.0744],\n",
      "        [ 0.1642, -0.1196],\n",
      "        [ 0.2374, -0.1412],\n",
      "        [ 0.2045, -0.1211]], grad_fn=<SqueezeBackward1>),)\n"
     ]
    }
   ],
   "source": [
    "_, counterfactual_outputs = intervenable(\n",
    "    base,\n",
    "    [source, source],\n",
    "    {\"sources->base\": ([[[0]] * 10, [[0]] * 10], [[[0]] * 10, [[0]] * 10])},\n",
    "    subspaces=[[[1]] * 10, [[0]] * 10],\n",
    ")\n",
    "print(counterfactual_outputs)  # this should be the same as the source output\n",
    "counterfactual_outputs[\n",
    "    0\n",
    "].sum().backward()  # fake call to make sure gradient can be populated"
   ]
  }
 ],
 "metadata": {
  "kernelspec": {
   "display_name": "Python 3 (ipykernel)",
   "language": "python",
   "name": "python3"
  },
  "language_info": {
   "codemirror_mode": {
    "name": "ipython",
    "version": 3
   },
   "file_extension": ".py",
   "mimetype": "text/x-python",
   "name": "python",
   "nbconvert_exporter": "python",
   "pygments_lexer": "ipython3",
   "version": "3.8.12"
  }
 },
 "nbformat": 4,
 "nbformat_minor": 5
}
